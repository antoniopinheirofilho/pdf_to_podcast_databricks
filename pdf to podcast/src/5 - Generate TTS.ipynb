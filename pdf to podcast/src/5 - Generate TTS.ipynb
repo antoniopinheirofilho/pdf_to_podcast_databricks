{
 "cells": [
  {
   "cell_type": "markdown",
   "metadata": {
    "application/vnd.databricks.v1+cell": {
     "cellMetadata": {
      "byteLimit": 2048000,
      "rowLimit": 10000
     },
     "inputWidgets": {},
     "nuid": "200a4037-a3a9-41b3-8c41-c8d7ea4809c4",
     "showTitle": false,
     "tableResultSettingsMap": {},
     "title": ""
    }
   },
   "source": [
    "# Dependencies"
   ]
  },
  {
   "cell_type": "code",
   "execution_count": 0,
   "metadata": {
    "application/vnd.databricks.v1+cell": {
     "cellMetadata": {
      "byteLimit": 2048000,
      "rowLimit": 10000
     },
     "inputWidgets": {},
     "nuid": "dd671be2-2901-4b91-8d79-9532a9a2216a",
     "showTitle": false,
     "tableResultSettingsMap": {},
     "title": ""
    }
   },
   "outputs": [],
   "source": [
    "%pip install docling elevenlabs"
   ]
  },
  {
   "cell_type": "code",
   "execution_count": 0,
   "metadata": {
    "application/vnd.databricks.v1+cell": {
     "cellMetadata": {
      "byteLimit": 2048000,
      "rowLimit": 10000
     },
     "inputWidgets": {},
     "nuid": "f9e861b8-6b70-4133-9d74-ca6da0b51ee2",
     "showTitle": false,
     "tableResultSettingsMap": {},
     "title": ""
    }
   },
   "outputs": [],
   "source": [
    "dbutils.library.restartPython()"
   ]
  },
  {
   "cell_type": "code",
   "execution_count": 0,
   "metadata": {
    "application/vnd.databricks.v1+cell": {
     "cellMetadata": {
      "byteLimit": 2048000,
      "rowLimit": 10000
     },
     "inputWidgets": {},
     "nuid": "58c01c2f-1a4c-4509-85aa-297b4ce4dfdb",
     "showTitle": false,
     "tableResultSettingsMap": {},
     "title": ""
    }
   },
   "outputs": [],
   "source": [
    "import httpx\n",
    "from elevenlabs.client import ElevenLabs\n",
    "from pydantic import BaseModel, Field\n",
    "from typing import Optional, Union, Literal\n",
    "import time\n",
    "import os"
   ]
  },
  {
   "cell_type": "markdown",
   "metadata": {
    "application/vnd.databricks.v1+cell": {
     "cellMetadata": {
      "byteLimit": 2048000,
      "rowLimit": 10000
     },
     "inputWidgets": {},
     "nuid": "d12ffb1f-fe02-4bee-b67b-9d980b016a9d",
     "showTitle": false,
     "tableResultSettingsMap": {},
     "title": ""
    }
   },
   "source": [
    "# Parameters"
   ]
  },
  {
   "cell_type": "code",
   "execution_count": 0,
   "metadata": {
    "application/vnd.databricks.v1+cell": {
     "cellMetadata": {
      "byteLimit": 2048000,
      "rowLimit": 10000
     },
     "inputWidgets": {},
     "nuid": "9d2d9e10-eb8d-4a3e-ab5e-ab7c7d585965",
     "showTitle": false,
     "tableResultSettingsMap": {},
     "title": ""
    }
   },
   "outputs": [],
   "source": [
    "eleven_labs_api_key = \"\"\n",
    "voice_1 = \"iP95p4xoKVk53GoZ742B\"\n",
    "monologue_table = \"llm_agents_catalog.pdf_to_podcast.monologue\"\n",
    "output_path = \"/Volumes/llm_agents_catalog/pdf_to_podcast/podecast_output\"\n",
    "output_file_name = \"realty_income.mp3\""
   ]
  },
  {
   "cell_type": "markdown",
   "metadata": {
    "application/vnd.databricks.v1+cell": {
     "cellMetadata": {
      "byteLimit": 2048000,
      "rowLimit": 10000
     },
     "inputWidgets": {},
     "nuid": "7c336e73-756c-4ea6-8b8a-73cf2689849a",
     "showTitle": false,
     "tableResultSettingsMap": {},
     "title": ""
    }
   },
   "source": [
    "# Helper Functions"
   ]
  },
  {
   "cell_type": "code",
   "execution_count": 0,
   "metadata": {
    "application/vnd.databricks.v1+cell": {
     "cellMetadata": {
      "byteLimit": 2048000,
      "rowLimit": 10000
     },
     "inputWidgets": {},
     "nuid": "50bc7a8a-4745-4120-95c7-48a93e633f9f",
     "showTitle": false,
     "tableResultSettingsMap": {},
     "title": ""
    }
   },
   "outputs": [],
   "source": [
    "class VoiceInfo(BaseModel):\n",
    "    voice_id: str\n",
    "    name: str\n",
    "    description: Optional[str] = None"
   ]
  },
  {
   "cell_type": "code",
   "execution_count": 0,
   "metadata": {
    "application/vnd.databricks.v1+cell": {
     "cellMetadata": {
      "byteLimit": 2048000,
      "rowLimit": 10000
     },
     "inputWidgets": {},
     "nuid": "dd15ce00-80c9-477e-a478-6495cb7b1df5",
     "showTitle": false,
     "tableResultSettingsMap": {},
     "title": ""
    }
   },
   "outputs": [],
   "source": [
    "httpx_client = httpx.Client()\n",
    "eleven_labs_client = ElevenLabs(\n",
    "            api_key=eleven_labs_api_key,\n",
    "            httpx_client=httpx_client,\n",
    "            timeout=120,\n",
    "        )"
   ]
  },
  {
   "cell_type": "code",
   "execution_count": 0,
   "metadata": {
    "application/vnd.databricks.v1+cell": {
     "cellMetadata": {
      "byteLimit": 2048000,
      "rowLimit": 10000
     },
     "inputWidgets": {},
     "nuid": "6fe3ab83-6766-417f-9e48-ca9ec042606f",
     "showTitle": false,
     "tableResultSettingsMap": {},
     "title": ""
    }
   },
   "outputs": [],
   "source": [
    "def _convert_text(text: str, voice_id: str) -> bytes:\n",
    "  \"\"\"Convert text to speech using ElevenLabs\"\"\"\n",
    "  audio_stream = eleven_labs_client.text_to_speech.convert(\n",
    "      text=text,\n",
    "      voice_id=voice_id,\n",
    "      model_id=\"eleven_monolingual_v1\",\n",
    "      output_format=\"mp3_44100_128\",\n",
    "      voice_settings={\"stability\": 0.5, \"similarity_boost\": 0.75, \"style\": 0.0},\n",
    "  )\n",
    "  return b\"\".join(chunk for chunk in audio_stream)"
   ]
  },
  {
   "cell_type": "markdown",
   "metadata": {
    "application/vnd.databricks.v1+cell": {
     "cellMetadata": {
      "byteLimit": 2048000,
      "rowLimit": 10000
     },
     "inputWidgets": {},
     "nuid": "399fac36-4806-4940-b027-d7f6ca727b79",
     "showTitle": false,
     "tableResultSettingsMap": {},
     "title": ""
    }
   },
   "source": [
    "# Create TTS"
   ]
  },
  {
   "cell_type": "code",
   "execution_count": 0,
   "metadata": {
    "application/vnd.databricks.v1+cell": {
     "cellMetadata": {
      "byteLimit": 2048000,
      "rowLimit": 10000
     },
     "inputWidgets": {},
     "nuid": "7df3f111-04c7-4abf-a8a5-dc6ea1825c2a",
     "showTitle": false,
     "tableResultSettingsMap": {},
     "title": ""
    }
   },
   "outputs": [],
   "source": [
    "dialogue = spark.table(monologue_table).collect()[0][1]"
   ]
  },
  {
   "cell_type": "code",
   "execution_count": 0,
   "metadata": {
    "application/vnd.databricks.v1+cell": {
     "cellMetadata": {
      "byteLimit": 2048000,
      "rowLimit": 10000
     },
     "inputWidgets": {},
     "nuid": "d95d8028-6f6c-48da-942a-db4623232d50",
     "showTitle": false,
     "tableResultSettingsMap": {},
     "title": ""
    }
   },
   "outputs": [],
   "source": [
    "DEFAULT_VOICE_MAPPING = {\"speaker-1\": voice_1}\n",
    "for d in dialogue:\n",
    "  speaker = d[\"speaker\"]\n",
    "  d[\"voice_id\"] = DEFAULT_VOICE_MAPPING[speaker]"
   ]
  },
  {
   "cell_type": "code",
   "execution_count": 0,
   "metadata": {
    "application/vnd.databricks.v1+cell": {
     "cellMetadata": {
      "byteLimit": 2048000,
      "rowLimit": 10000
     },
     "inputWidgets": {},
     "nuid": "31b87002-2f3c-4bea-b2e8-993fc501cde6",
     "showTitle": false,
     "tableResultSettingsMap": {},
     "title": ""
    }
   },
   "outputs": [],
   "source": [
    "print(dialogue)"
   ]
  },
  {
   "cell_type": "code",
   "execution_count": 0,
   "metadata": {
    "application/vnd.databricks.v1+cell": {
     "cellMetadata": {
      "byteLimit": 2048000,
      "rowLimit": 10000
     },
     "inputWidgets": {},
     "nuid": "ccd6e5cb-c9bd-426e-9015-d953ea30eef8",
     "showTitle": false,
     "tableResultSettingsMap": {},
     "title": ""
    }
   },
   "outputs": [],
   "source": [
    "combined_audio = []\n",
    "\n",
    "for task in dialogue:\n",
    "\n",
    "  text = task[\"text\"]\n",
    "  voice_id = task[\"voice_id\"]\n",
    "\n",
    "  combined_audio += _convert_text(text, voice_id)\n",
    "  time.sleep(2)\n",
    "\n",
    "print(combined_audio)"
   ]
  },
  {
   "cell_type": "code",
   "execution_count": 0,
   "metadata": {
    "application/vnd.databricks.v1+cell": {
     "cellMetadata": {
      "byteLimit": 2048000,
      "rowLimit": 10000
     },
     "inputWidgets": {},
     "nuid": "4c419fc2-9286-4d99-ab1a-cc752e585689",
     "showTitle": false,
     "tableResultSettingsMap": {},
     "title": ""
    }
   },
   "outputs": [],
   "source": [
    "combined_audio_bytes = b''.join([bytes([b]) for b in combined_audio])\n",
    "\n",
    "# Save the audio file locally\n",
    "with open(os.path.join(output_path, output_file_name), \"wb\") as f:\n",
    "    f.write(combined_audio_bytes)\n",
    "\n",
    "print(f\"Audio file written to {output_path}\")"
   ]
  }
 ],
 "metadata": {
  "application/vnd.databricks.v1+notebook": {
   "computePreferences": null,
   "dashboards": [],
   "environmentMetadata": {
    "base_environment": "",
    "client": "1"
   },
   "language": "python",
   "notebookMetadata": {
    "pythonIndentUnit": 2
   },
   "notebookName": "5 - Generate TTS",
   "widgets": {}
  },
  "language_info": {
   "name": "python"
  }
 },
 "nbformat": 4,
 "nbformat_minor": 0
}
